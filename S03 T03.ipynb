{
 "cells": [
  {
   "cell_type": "markdown",
   "id": "fbb182eb-55cc-4af9-9e26-c508b972c70b",
   "metadata": {},
   "source": [
    "# S03 T03: Estructura de control"
   ]
  },
  {
   "cell_type": "markdown",
   "id": "c56201d3-02fb-47e3-98fa-34fe97017d31",
   "metadata": {},
   "source": [
    "## Nivell 1"
   ]
  },
  {
   "cell_type": "markdown",
   "id": "2158ee57-dfa1-496f-9b65-ba293550630a",
   "metadata": {},
   "source": [
    "### Exercici 1"
   ]
  },
  {
   "cell_type": "markdown",
   "id": "b9f4de6b-d0ea-4bf5-aff4-aaa2398c67d4",
   "metadata": {},
   "source": [
    "L'exercici consisteix a crear un programa que et classifiqui una variable numèrica en funció de l’escala Suspès/Aprovat/Notable/Excel·lent."
   ]
  },
  {
   "cell_type": "code",
   "execution_count": null,
   "id": "888e0450-4bc0-4796-b218-9ac03fdb6bc1",
   "metadata": {},
   "outputs": [],
   "source": [
    "import numpy as np\n",
    "import math\n",
    "nota = float(input(\"Introduce la nota: \"))\n",
    "if nota == 10:\n",
    "    print (\"Excelente\")\n",
    "elif nota >= 8 and nota < 10:\n",
    "    print (\"Notable\")\n",
    "elif nota >= 4 and nota < 8:\n",
    "    print (\"Aprobado\")\n",
    "else:\n",
    "    print (\"Suspendido\")"
   ]
  },
  {
   "cell_type": "markdown",
   "id": "1aecb8b3-fd65-4975-84d5-7d5ba509f1ec",
   "metadata": {},
   "source": [
    "### Exercici 2"
   ]
  },
  {
   "cell_type": "markdown",
   "id": "9562cfdd-2ad3-41cb-9c7a-e5a65eb4e29f",
   "metadata": {},
   "source": [
    "Utilitzant el següent tutorial Programiz: Python Input, Output and Import crea un programa que et pregunti dos números. T’ha de mostrar un missatge dient si el primer és més gran, el segon és més gran o són iguals."
   ]
  },
  {
   "cell_type": "code",
   "execution_count": 1,
   "id": "906196df-fff8-4625-8b66-9c3cdb617628",
   "metadata": {},
   "outputs": [
    {
     "name": "stdin",
     "output_type": "stream",
     "text": [
      "Ingrese el numero a:  2\n",
      "Ingrese el numero b:  2\n"
     ]
    },
    {
     "name": "stdout",
     "output_type": "stream",
     "text": [
      "a y b son iguales\n"
     ]
    }
   ],
   "source": [
    "a = input('Ingrese el numero a: ')\n",
    "b = input('Ingrese el numero b: ')\n",
    "if a > b: \n",
    "    print (\"a es más grande que b\") \n",
    "elif a < b: \n",
    "    print (\"b es más grande que a\")\n",
    "else: \n",
    "    print (\"a y b son iguales\")"
   ]
  },
  {
   "cell_type": "markdown",
   "id": "3ad33207-0a10-4ae7-a0e0-4e6d5c6d61a0",
   "metadata": {},
   "source": [
    "### Exercici 3"
   ]
  },
  {
   "cell_type": "markdown",
   "id": "59144ca4-2748-484f-be80-323719b34e0a",
   "metadata": {},
   "source": [
    "Crea un programa que et pregunti el teu nom, i et demani un número. Si el número és 0, hauria de mostrar un missatge d’error. En cas contrari, hauria de mostrar el nom repetit tants cops com indiqui el número. Per exemple, “Joan Joan Joan”."
   ]
  },
  {
   "cell_type": "code",
   "execution_count": 2,
   "id": "db59f251-081b-47d2-afc2-37b1996bcc2b",
   "metadata": {},
   "outputs": [
    {
     "name": "stdin",
     "output_type": "stream",
     "text": [
      "Dime tu nombre:  leo\n",
      "Di un numero:  0\n"
     ]
    },
    {
     "name": "stdout",
     "output_type": "stream",
     "text": [
      "Error\n"
     ]
    }
   ],
   "source": [
    "nombre = input(\"Dime tu nombre: \")\n",
    "numero = int(input(\"Di un numero: \"))\n",
    "if numero == 0:\n",
    "    print (\"Error\")\n",
    "else: \n",
    "    print (nombre * int(numero))"
   ]
  },
  {
   "cell_type": "markdown",
   "id": "c17de9fa-13c6-4e34-9fa7-3eadbef593e8",
   "metadata": {},
   "source": [
    "### Exercici 4"
   ]
  },
  {
   "cell_type": "markdown",
   "id": "2308a07b-9ee6-4a53-bc1c-f9b18227e0b6",
   "metadata": {},
   "source": [
    "Crea un programa que donada una llista qualsevol, et digui si es simètrica o no. Si ho és, que et digui quants elements té."
   ]
  },
  {
   "cell_type": "code",
   "execution_count": 173,
   "id": "2f0d4bd0-23f0-4a7c-9d4b-0d348a3b1441",
   "metadata": {},
   "outputs": [
    {
     "name": "stdout",
     "output_type": "stream",
     "text": [
      "No es simétrica\n"
     ]
    }
   ],
   "source": [
    "import random as r\n",
    "lista = []\n",
    "for i in range(0,1000):\n",
    "    n = r.randint(0,1000)\n",
    "    lista.append(n)\n",
    "if lista == lista [::-1]:\n",
    "        print (\"Es simétrica\")\n",
    "        print(len(lista))\n",
    "else:\n",
    "       print(\"No es simétrica\")"
   ]
  },
  {
   "cell_type": "markdown",
   "id": "3435f236-7080-4ff0-b9d5-f59e5d1c8e01",
   "metadata": {},
   "source": [
    "### Exercici 5"
   ]
  },
  {
   "cell_type": "markdown",
   "id": "4a1556ae-85d5-477a-80fd-cc9a8aec1dd6",
   "metadata": {},
   "source": [
    "Crea un programa que donada una llista, et digui quants números coincideixen amb la seva posició. Per exemple [3,4,2,0,2,3,6] el 2 i el 6 coincideixen."
   ]
  },
  {
   "cell_type": "code",
   "execution_count": 169,
   "id": "3e19d8ba-dedd-44fe-984f-a49fbcb9ca4c",
   "metadata": {},
   "outputs": [
    {
     "name": "stdout",
     "output_type": "stream",
     "text": [
      "[19, 59, 56, 25, 42, 58, 45, 75, 65, 10, 31, 91, 68, 18, 78, 60, 12, 5, 22, 24, 75, 45, 13, 93, 63, 82, 55, 51, 77, 94, 10, 52, 53, 94, 91, 65, 11, 10, 70, 40, 44, 84, 8, 84, 54, 79, 3, 31, 92, 70, 99, 14, 26, 19, 1, 77, 38, 83, 44, 68, 14, 58, 1, 37, 62, 89, 69, 46, 98, 16, 42, 86, 71, 8, 46, 41, 89, 71, 30, 48, 82, 30, 69, 93, 21, 53, 62, 31, 8, 3, 19, 43, 15, 48, 82, 77, 33, 68, 37, 20]\n"
     ]
    }
   ],
   "source": [
    "import random as r\n",
    "lista = []\n",
    "for i in range(0,100):\n",
    "    n = r.randint(1,100)\n",
    "    lista.append(n)\n",
    "if lista[i] == lista[n]:\n",
    "    print(n)\n",
    "else: \n",
    "    print (lista)"
   ]
  },
  {
   "cell_type": "code",
   "execution_count": null,
   "id": "71064e8f-5daf-496b-ad63-1c2d9827ca17",
   "metadata": {},
   "outputs": [],
   "source": []
  }
 ],
 "metadata": {
  "kernelspec": {
   "display_name": "Python 3",
   "language": "python",
   "name": "python3"
  },
  "language_info": {
   "codemirror_mode": {
    "name": "ipython",
    "version": 3
   },
   "file_extension": ".py",
   "mimetype": "text/x-python",
   "name": "python",
   "nbconvert_exporter": "python",
   "pygments_lexer": "ipython3",
   "version": "3.8.8"
  }
 },
 "nbformat": 4,
 "nbformat_minor": 5
}
